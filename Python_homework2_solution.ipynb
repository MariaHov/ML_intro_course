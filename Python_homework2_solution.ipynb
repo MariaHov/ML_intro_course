{
 "cells": [
  {
   "cell_type": "code",
   "execution_count": 1,
   "metadata": {},
   "outputs": [],
   "source": [
    "def my_max(*args):\n",
    "    if not args:\n",
    "        return \"no numbers given\"\n",
    "    else:\n",
    "        max_val = args[0]\n",
    "        for val in args:\n",
    "            if val > max_val:\n",
    "                max_val = val\n",
    "        return max_val"
   ]
  },
  {
   "cell_type": "code",
   "execution_count": 5,
   "metadata": {},
   "outputs": [
    {
     "name": "stdout",
     "output_type": "stream",
     "text": [
      "8,no numbers given\n"
     ]
    }
   ],
   "source": [
    "print(my_max(1, 8, 3), my_max(), sep=\",\")"
   ]
  },
  {
   "cell_type": "code",
   "execution_count": 6,
   "metadata": {},
   "outputs": [],
   "source": [
    "def unique(values):\n",
    "    return list(set(values))"
   ]
  },
  {
   "cell_type": "code",
   "execution_count": 7,
   "metadata": {},
   "outputs": [
    {
     "data": {
      "text/plain": [
       "[3, 4, 5]"
      ]
     },
     "execution_count": 7,
     "metadata": {},
     "output_type": "execute_result"
    }
   ],
   "source": [
    "unique([3, 4, 5, 5, 4, 3])"
   ]
  },
  {
   "cell_type": "code",
   "execution_count": 23,
   "metadata": {},
   "outputs": [],
   "source": [
    "def my_fib(n):\n",
    "    a = 1\n",
    "    b = 1\n",
    "    for i in range(2, n):\n",
    "        c = a + b\n",
    "        a = b\n",
    "        b = c\n",
    "    return c"
   ]
  },
  {
   "cell_type": "code",
   "execution_count": 24,
   "metadata": {},
   "outputs": [
    {
     "data": {
      "text/plain": [
       "8"
      ]
     },
     "execution_count": 24,
     "metadata": {},
     "output_type": "execute_result"
    }
   ],
   "source": [
    "my_fib(6)"
   ]
  },
  {
   "cell_type": "code",
   "execution_count": 25,
   "metadata": {},
   "outputs": [],
   "source": [
    "class Person:\n",
    "    \n",
    "    def __init__(self, name, last_name, age, gender, is_student, password):\n",
    "        self.name = name\n",
    "        self.last_name = last_name\n",
    "        self.age = age\n",
    "        self.gender = gender\n",
    "        self.student = is_student\n",
    "        self.__password = password\n",
    "        \n",
    "    def Greeting(self, second_person):\n",
    "        print(f\"Welcome dear {second_person.name}\")\n",
    "        \n",
    "    def Goodbye(self):\n",
    "        print(\"Bye everyone!\")\n",
    "        \n",
    "    def Favourite_num(self, num1):\n",
    "        return f\"My favourite number is {num1}\"\n",
    "    \n",
    "    def Read_file(self, filename):\n",
    "        f = open(f\"{filename}.txt\")\n",
    "        \n",
    "    def set_password(self, password):\n",
    "        self.__password = password\n",
    "        \n",
    "    def get_password(self):\n",
    "        return self.__password"
   ]
  },
  {
   "cell_type": "code",
   "execution_count": 31,
   "metadata": {},
   "outputs": [],
   "source": [
    "me = Person(\"Mary\", \"Hakobyan\", 23, \"f\", \"no\", \"psw\")\n",
    "you = Person(\"Tom\", \"Hanks\", 45, \"m\", \"no\", \"psw2\")"
   ]
  },
  {
   "cell_type": "code",
   "execution_count": 33,
   "metadata": {},
   "outputs": [
    {
     "name": "stdout",
     "output_type": "stream",
     "text": [
      "Welcome dear Tom\n"
     ]
    }
   ],
   "source": [
    "me.Greeting(you)"
   ]
  },
  {
   "cell_type": "code",
   "execution_count": 34,
   "metadata": {},
   "outputs": [
    {
     "name": "stdout",
     "output_type": "stream",
     "text": [
      "Bye everyone!\n"
     ]
    }
   ],
   "source": [
    "me.Goodbye()"
   ]
  },
  {
   "cell_type": "code",
   "execution_count": 38,
   "metadata": {},
   "outputs": [],
   "source": [
    "me.Read_file(\"test\")"
   ]
  },
  {
   "cell_type": "code",
   "execution_count": 39,
   "metadata": {},
   "outputs": [],
   "source": [
    "me.set_password(\"new_psw\")"
   ]
  },
  {
   "cell_type": "code",
   "execution_count": 41,
   "metadata": {},
   "outputs": [
    {
     "data": {
      "text/plain": [
       "'new_psw'"
      ]
     },
     "execution_count": 41,
     "metadata": {},
     "output_type": "execute_result"
    }
   ],
   "source": [
    "me.get_password()"
   ]
  },
  {
   "cell_type": "code",
   "execution_count": 46,
   "metadata": {},
   "outputs": [],
   "source": [
    "class Calculation:\n",
    "    \n",
    "    def __init__(self, x, y):\n",
    "        self.x = x\n",
    "        self.y = y\n",
    "        \n",
    "    def addition(self):\n",
    "        print(self.x + self.y)\n",
    "    \n",
    "    def subtraction(self):\n",
    "        print(self.x - self.y)\n",
    "        \n",
    "class MyCalculation(Calculation):\n",
    "    \n",
    "    def __init__(self, x, y):\n",
    "        super().__init__(x, y)\n",
    "        \n",
    "    def multiplication(self):\n",
    "        print(self.x * self.y)\n",
    "        \n",
    "    def division(self):\n",
    "        print(self.x / self.y)"
   ]
  },
  {
   "cell_type": "code",
   "execution_count": 47,
   "metadata": {},
   "outputs": [
    {
     "name": "stdout",
     "output_type": "stream",
     "text": [
      "8\n",
      "-2\n",
      "15\n",
      "0.6\n"
     ]
    },
    {
     "data": {
      "text/plain": [
       "(None, None, None, None)"
      ]
     },
     "execution_count": 47,
     "metadata": {},
     "output_type": "execute_result"
    }
   ],
   "source": [
    "calc = MyCalculation(3, 5)\n",
    "calc.addition(), calc.subtraction(), calc.multiplication(), calc.division()"
   ]
  },
  {
   "cell_type": "code",
   "execution_count": null,
   "metadata": {},
   "outputs": [],
   "source": []
  }
 ],
 "metadata": {
  "kernelspec": {
   "display_name": "Python 3",
   "language": "python",
   "name": "python3"
  },
  "language_info": {
   "codemirror_mode": {
    "name": "ipython",
    "version": 3
   },
   "file_extension": ".py",
   "mimetype": "text/x-python",
   "name": "python",
   "nbconvert_exporter": "python",
   "pygments_lexer": "ipython3",
   "version": "3.6.8"
  }
 },
 "nbformat": 4,
 "nbformat_minor": 4
}
