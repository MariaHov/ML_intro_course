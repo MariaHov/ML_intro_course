{
 "cells": [
  {
   "cell_type": "code",
   "execution_count": 2,
   "metadata": {},
   "outputs": [
    {
     "name": "stdout",
     "output_type": "stream",
     "text": [
      "4\n",
      "['hello', 1, True, 4]\n",
      "hi\n",
      "['hello', 1, True, 4, 'hi']\n"
     ]
    }
   ],
   "source": [
    "list1 = [\"hello\", 1, True]\n",
    "list1.append(int(input()))\n",
    "print(list1)\n",
    "list1.append(input())\n",
    "print(list1)"
   ]
  },
  {
   "cell_type": "code",
   "execution_count": 4,
   "metadata": {},
   "outputs": [
    {
     "data": {
      "text/plain": [
       "[1, 2, 3, 6]"
      ]
     },
     "execution_count": 4,
     "metadata": {},
     "output_type": "execute_result"
    }
   ],
   "source": [
    "list2 = [0, 1, 2, 3, 4, 5, 6]\n",
    "del list2[5]\n",
    "del list2[4]\n",
    "del list2[0]\n",
    "list2"
   ]
  },
  {
   "cell_type": "code",
   "execution_count": 5,
   "metadata": {},
   "outputs": [
    {
     "data": {
      "text/plain": [
       "[1, 2, 3, 6]"
      ]
     },
     "execution_count": 5,
     "metadata": {},
     "output_type": "execute_result"
    }
   ],
   "source": [
    "list2 = [0, 1, 2, 3, 4, 5, 6]\n",
    "list2.pop(5)\n",
    "list2.pop(4)\n",
    "list2.pop(0)\n",
    "list2"
   ]
  },
  {
   "cell_type": "code",
   "execution_count": 7,
   "metadata": {},
   "outputs": [
    {
     "name": "stdout",
     "output_type": "stream",
     "text": [
      "10\n",
      "False\n"
     ]
    }
   ],
   "source": [
    "set3 = {3, 4, 7, 1, 9}\n",
    "new_num = int(input())\n",
    "if min(set3) < new_num < max(set3):\n",
    "    print(\"True\")\n",
    "else:\n",
    "    print(\"False\")"
   ]
  },
  {
   "cell_type": "code",
   "execution_count": 10,
   "metadata": {},
   "outputs": [
    {
     "name": "stdout",
     "output_type": "stream",
     "text": [
      "11\n",
      "False\n"
     ]
    }
   ],
   "source": [
    "set3 = {3, 4, 7, 1, 9}\n",
    "new_num = int(input())\n",
    "print( min(set3) < new_num < max(set3))\n"
   ]
  },
  {
   "cell_type": "code",
   "execution_count": 17,
   "metadata": {},
   "outputs": [
    {
     "name": "stdout",
     "output_type": "stream",
     "text": [
      "key3\n",
      "3\n"
     ]
    },
    {
     "data": {
      "text/plain": [
       "{'key1': 1, 'key2': 2, 'key3': '3'}"
      ]
     },
     "execution_count": 17,
     "metadata": {},
     "output_type": "execute_result"
    }
   ],
   "source": [
    "dict1 = {\"key1\":1, \"key2\":2}\n",
    "new_key, new_value = input(), input()\n",
    "dict1.update({new_key:new_value})\n",
    "# dict1[new_key] = new_value\n",
    "dict1"
   ]
  },
  {
   "cell_type": "code",
   "execution_count": 22,
   "metadata": {},
   "outputs": [
    {
     "name": "stdout",
     "output_type": "stream",
     "text": [
      "3\n",
      "5\n",
      "rectangle\n"
     ]
    }
   ],
   "source": [
    "a, b = int(input()), int(input())\n",
    "\n",
    "# if a==b:\n",
    "#     print(\"square\")\n",
    "# else:\n",
    "#     print(\"rectangle\")\n",
    "    \n",
    "print(\"square\" if a==b else \"rectangle\")"
   ]
  },
  {
   "cell_type": "code",
   "execution_count": null,
   "metadata": {},
   "outputs": [],
   "source": []
  }
 ],
 "metadata": {
  "kernelspec": {
   "display_name": "Python 3",
   "language": "python",
   "name": "python3"
  },
  "language_info": {
   "codemirror_mode": {
    "name": "ipython",
    "version": 3
   },
   "file_extension": ".py",
   "mimetype": "text/x-python",
   "name": "python",
   "nbconvert_exporter": "python",
   "pygments_lexer": "ipython3",
   "version": "3.6.8"
  }
 },
 "nbformat": 4,
 "nbformat_minor": 4
}
