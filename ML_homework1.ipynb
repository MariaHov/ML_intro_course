{
 "cells": [
  {
   "cell_type": "code",
   "execution_count": 1,
   "metadata": {
    "scrolled": false
   },
   "outputs": [],
   "source": [
    "#6 (practical)\n",
    "name = 'Batman'\n",
    "age = 15\n",
    "password = '12345*'\n",
    "if name == 'Batman':\n",
    "    print(\"Welcome Mr. Batman!\")\n",
    "if age < 16:\n",
    "    print('Dear',name ,', you are too young to register')\n",
    "lst= list(password)\n",
    "if not lst.count('*') | lst.count('&'):\n",
    "    print('Please enter a different password')\n"
   ]
  },
  {
   "cell_type": "code",
   "execution_count": 2,
   "metadata": {},
   "outputs": [
    {
     "name": "stdout",
     "output_type": "stream",
     "text": [
      "1\n",
      "3\n",
      "5\n",
      "7\n",
      "9\n",
      "11\n",
      "13\n",
      "15\n",
      "17\n",
      "19\n",
      "21\n",
      "23\n",
      "25\n",
      "27\n",
      "29\n",
      "31\n",
      "33\n",
      "35\n",
      "37\n",
      "39\n",
      "41\n",
      "43\n",
      "45\n",
      "47\n",
      "49\n",
      "51\n",
      "53\n",
      "55\n",
      "57\n",
      "59\n",
      "61\n",
      "63\n",
      "65\n",
      "67\n",
      "69\n",
      "71\n",
      "73\n",
      "75\n",
      "77\n",
      "79\n",
      "81\n",
      "83\n",
      "85\n",
      "87\n",
      "89\n",
      "91\n",
      "93\n",
      "95\n",
      "97\n",
      "99\n"
     ]
    }
   ],
   "source": [
    "#7 (practical)\n",
    "for i in list(range(100)):\n",
    "    if not i%2==0:\n",
    "        print(i)\n",
    "    \n"
   ]
  },
  {
   "cell_type": "code",
   "execution_count": 3,
   "metadata": {},
   "outputs": [
    {
     "name": "stdout",
     "output_type": "stream",
     "text": [
      "15\n"
     ]
    }
   ],
   "source": [
    "#8 (practical)\n",
    "i = 1\n",
    "while i < 20:\n",
    "    if i%3==0 and i%5==0:\n",
    "        print(i)\n",
    "        break\n",
    "    i = i+1"
   ]
  },
  {
   "cell_type": "code",
   "execution_count": 4,
   "metadata": {},
   "outputs": [
    {
     "data": {
      "text/plain": [
       "[2342, 23, 412]"
      ]
     },
     "execution_count": 4,
     "metadata": {},
     "output_type": "execute_result"
    }
   ],
   "source": [
    "#9 (practical)\n",
    "list2 = []\n",
    "list1=[1, 2, 2342, -13, 23, 13, 412]\n",
    "for x in list1:\n",
    "    if x > 20:\n",
    "        list2.append(x)\n",
    "list2\n"
   ]
  },
  {
   "cell_type": "code",
   "execution_count": 5,
   "metadata": {},
   "outputs": [
    {
     "name": "stdout",
     "output_type": "stream",
     "text": [
      "5\n"
     ]
    },
    {
     "data": {
      "text/plain": [
       "0"
      ]
     },
     "execution_count": 5,
     "metadata": {},
     "output_type": "execute_result"
    }
   ],
   "source": [
    "#1 (homework)\n",
    "listt = [1, 1, 43, -1, 1, 1, 0, 1]\n",
    "m = int(input())\n",
    "listt.count(m)"
   ]
  },
  {
   "cell_type": "code",
   "execution_count": 6,
   "metadata": {},
   "outputs": [
    {
     "data": {
      "text/plain": [
       "(('1', '2', '3', '4'), 'hello', ('6', '7'))"
      ]
     },
     "execution_count": 6,
     "metadata": {},
     "output_type": "execute_result"
    }
   ],
   "source": [
    "#2 (homework)\n",
    "t2 = ('1', '2', '3', '4', '5', '6', '7')\n",
    "t3= (t2[0:4], 'hello', t2[5:])\n",
    "t2=t3\n",
    "t2"
   ]
  },
  {
   "cell_type": "code",
   "execution_count": 7,
   "metadata": {},
   "outputs": [
    {
     "name": "stdout",
     "output_type": "stream",
     "text": [
      "5\n"
     ]
    },
    {
     "data": {
      "text/plain": [
       "{'name': 'Armen', 'age': 15, 'grades': [10, 8, 8, 4, 6, 7], 'weight': [5]}"
      ]
     },
     "execution_count": 7,
     "metadata": {},
     "output_type": "execute_result"
    }
   ],
   "source": [
    "#3 (homework)\n",
    "d = {'name': 'Armen', 'age':15, 'grades': [10, 8, 8, 4, 6, 7] }\n",
    "lis = list(d.keys())\n",
    "if lis.count('weight')==0:\n",
    "    n= int(input())\n",
    "    d['weight']= [n]\n",
    "else:\n",
    "    print(d['weight'])\n",
    "d"
   ]
  },
  {
   "cell_type": "code",
   "execution_count": 10,
   "metadata": {},
   "outputs": [
    {
     "name": "stdout",
     "output_type": "stream",
     "text": [
      "1\n",
      "2\n",
      "6\n",
      "5\n",
      "That was a good guess!\n"
     ]
    }
   ],
   "source": [
    "#4 (homework)\n",
    "correct_num = 5 \n",
    "i=0\n",
    "while i<10:\n",
    "    guess = int(input())\n",
    "    if guess == correct_num:\n",
    "        guess == correct_num\n",
    "        print('That was a good guess!')\n",
    "        break\n",
    "    i+=1"
   ]
  },
  {
   "cell_type": "code",
   "execution_count": 29,
   "metadata": {},
   "outputs": [
    {
     "name": "stdout",
     "output_type": "stream",
     "text": [
      "2\n"
     ]
    }
   ],
   "source": [
    "#5 (homework)\n",
    "list9 = ['a', 'abc', 'xyz', 's', 'aba','1221']\n",
    "r = 0 \n",
    "for ch in list9:\n",
    "    gg = list(ch) \n",
    "    if len(gg)>=2: \n",
    "        str1 = gg[-1] \n",
    "        str2 = gg[0]\n",
    "        if str1 == str2:\n",
    "            r+=1\n",
    "print(r)"
   ]
  },
  {
   "cell_type": "code",
   "execution_count": null,
   "metadata": {},
   "outputs": [],
   "source": []
  },
  {
   "cell_type": "code",
   "execution_count": null,
   "metadata": {},
   "outputs": [],
   "source": []
  }
 ],
 "metadata": {
  "kernelspec": {
   "display_name": "Python 3",
   "language": "python",
   "name": "python3"
  },
  "language_info": {
   "codemirror_mode": {
    "name": "ipython",
    "version": 3
   },
   "file_extension": ".py",
   "mimetype": "text/x-python",
   "name": "python",
   "nbconvert_exporter": "python",
   "pygments_lexer": "ipython3",
   "version": "3.7.6"
  }
 },
 "nbformat": 4,
 "nbformat_minor": 4
}
