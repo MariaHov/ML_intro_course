{
 "cells": [
  {
   "cell_type": "code",
   "execution_count": 2,
   "metadata": {},
   "outputs": [
    {
     "name": "stdout",
     "output_type": "stream",
     "text": [
      "7.666666666666667\n"
     ]
    }
   ],
   "source": [
    "def fun( x, y, z):\n",
    "    return (x+y+z)/3\n",
    "print(fun(5,8,10))"
   ]
  },
  {
   "cell_type": "code",
   "execution_count": 5,
   "metadata": {},
   "outputs": [
    {
     "data": {
      "text/plain": [
       "3"
      ]
     },
     "execution_count": 5,
     "metadata": {},
     "output_type": "execute_result"
    }
   ],
   "source": [
    "my_list = [1 , 3, 7, 3, 2, 1, 3456, 2]\n",
    "def lfun(l):\n",
    "    r = 0\n",
    "    for x in l:\n",
    "        if x%2 == 0:\n",
    "            r+=1\n",
    "    return r   \n",
    "lfun(my_list)"
   ]
  },
  {
   "cell_type": "code",
   "execution_count": 12,
   "metadata": {},
   "outputs": [
    {
     "name": "stdout",
     "output_type": "stream",
     "text": [
      "Maria your avarage answer is 3.0\n"
     ]
    }
   ],
   "source": [
    "def fuunc(name, *args):\n",
    "    listtt = []\n",
    "    k=0\n",
    "    for i in args:\n",
    "        listtt.append(i)\n",
    "        k+=i\n",
    "    if len(listtt)==0:\n",
    "        print('No grades available for', name )\n",
    "        return \n",
    "    avr = k/len(listtt)\n",
    "    print (name , 'your avarage answer is', avr)\n",
    "    \n",
    "fuunc('Maria', 4, 3, 2 )\n",
    "    \n",
    "        \n",
    "    \n",
    "    \n",
    "    \n",
    "    "
   ]
  },
  {
   "cell_type": "code",
   "execution_count": null,
   "metadata": {},
   "outputs": [],
   "source": []
  }
 ],
 "metadata": {
  "kernelspec": {
   "display_name": "Python 3",
   "language": "python",
   "name": "python3"
  },
  "language_info": {
   "codemirror_mode": {
    "name": "ipython",
    "version": 3
   },
   "file_extension": ".py",
   "mimetype": "text/x-python",
   "name": "python",
   "nbconvert_exporter": "python",
   "pygments_lexer": "ipython3",
   "version": "3.7.6"
  }
 },
 "nbformat": 4,
 "nbformat_minor": 4
}
